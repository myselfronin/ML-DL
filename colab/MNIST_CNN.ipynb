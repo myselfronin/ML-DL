{
  "nbformat": 4,
  "nbformat_minor": 0,
  "metadata": {
    "colab": {
      "name": "MNIST_CNN.ipynb",
      "version": "0.3.2",
      "provenance": []
    },
    "kernelspec": {
      "name": "python3",
      "display_name": "Python 3"
    },
    "accelerator": "GPU"
  },
  "cells": [
    {
      "cell_type": "code",
      "metadata": {
        "id": "Eko3m-a2cusm",
        "colab_type": "code",
        "outputId": "ee7f1cc8-a0c7-4e79-8238-f28e438c70a7",
        "colab": {
          "base_uri": "https://localhost:8080/",
          "height": 35
        }
      },
      "source": [
        "import numpy\n",
        "from keras.datasets import mnist\n",
        "from keras.models import Sequential\n",
        "from keras.layers import Dense\n",
        "from keras.layers import Dropout\n",
        "from keras.layers import Flatten\n",
        "from keras.layers.convolutional import Conv2D\n",
        "from keras.layers.convolutional import MaxPooling2D\n",
        "from keras.utils import np_utils\n",
        "from keras import backend as K\n",
        "K.set_image_dim_ordering('th')"
      ],
      "execution_count": 1,
      "outputs": [
        {
          "output_type": "stream",
          "text": [
            "Using TensorFlow backend.\n"
          ],
          "name": "stderr"
        }
      ]
    },
    {
      "cell_type": "code",
      "metadata": {
        "id": "NlqihuSJcwYD",
        "colab_type": "code",
        "colab": {}
      },
      "source": [
        "#fix random seed for reproducibility\n",
        "seed = 7\n",
        "numpy.random.seed(seed) "
      ],
      "execution_count": 0,
      "outputs": []
    },
    {
      "cell_type": "code",
      "metadata": {
        "id": "Gh1lVQw0dcpg",
        "colab_type": "code",
        "outputId": "c4b0374e-0041-45dd-c857-ed9411ea799a",
        "colab": {
          "base_uri": "https://localhost:8080/",
          "height": 52
        }
      },
      "source": [
        "#load data\n",
        "(X_train, y_train),(X_test, y_test) = mnist.load_data()\n",
        "#reshape to be [samples][pixels][width][height]\n",
        "X_train = X_train.reshape(X_train.shape[0],1,28,28).astype('float32')\n",
        "X_test = X_test.reshape(X_test.shape[0], 1, 28, 28).astype('float32')"
      ],
      "execution_count": 3,
      "outputs": [
        {
          "output_type": "stream",
          "text": [
            "Downloading data from https://s3.amazonaws.com/img-datasets/mnist.npz\n",
            "11493376/11490434 [==============================] - 27s 2us/step\n"
          ],
          "name": "stdout"
        }
      ]
    },
    {
      "cell_type": "code",
      "metadata": {
        "id": "ZaSVx4oDvODx",
        "colab_type": "code",
        "colab": {}
      },
      "source": [
        "#normalise inputs from 0-255 to 0-1\n",
        "X_train = X_train/255\n",
        "X_test = X_test/255\n",
        "\n",
        "#one hot encode outputs\n",
        "y_train = np_utils.to_categorical(y_train)\n",
        "y_test = np_utils.to_categorical(y_test)\n",
        "\n",
        "num_classes = y_test.shape[1]"
      ],
      "execution_count": 0,
      "outputs": []
    },
    {
      "cell_type": "code",
      "metadata": {
        "id": "rq4ToIjJvVaU",
        "colab_type": "code",
        "colab": {}
      },
      "source": [
        "def baseline_model():\n",
        "    #create model\n",
        "    model = Sequential()\n",
        "    model.add(Conv2D(32,(5,5), input_shape=(1,28,28), activation = 'relu'))\n",
        "    model.add(MaxPooling2D(pool_size =(2,2)))\n",
        "    model.add(Dropout(0.2))\n",
        "    model.add(Flatten())\n",
        "    model.add(Dense(128, activation = 'relu'))\n",
        "    model.add(Dense(num_classes, activation = 'softmax'))\n",
        "    #compile model\n",
        "    model.compile(loss='categorical_crossentropy', optimizer = 'adam', metrics=['accuracy'])\n",
        "    return model"
      ],
      "execution_count": 0,
      "outputs": []
    },
    {
      "cell_type": "code",
      "metadata": {
        "id": "HvOfXiHvvWTO",
        "colab_type": "code",
        "outputId": "7d8d55bf-0c1f-4c6d-fa63-8c40768ba93d",
        "colab": {
          "base_uri": "https://localhost:8080/",
          "height": 399
        }
      },
      "source": [
        "#build the model\n",
        "model = baseline_model()\n",
        "#fit the model\n",
        "model.fit(X_train, y_train, validation_data=(X_test, y_test),epochs =10, batch_size = 200, verbose =1)\n",
        "#final evaluation of the model\n",
        "scores = model.evaluate(X_test,y_test,verbose=0)\n",
        "print(\"CNN Error: %.2%\"%(100-scores[1]*100))"
      ],
      "execution_count": 7,
      "outputs": [
        {
          "output_type": "stream",
          "text": [
            "Train on 60000 samples, validate on 10000 samples\n",
            "Epoch 1/10\n",
            "60000/60000 [==============================] - 2s 35us/step - loss: 0.2407 - acc: 0.9311 - val_loss: 0.0707 - val_acc: 0.9784\n",
            "Epoch 2/10\n",
            "60000/60000 [==============================] - 2s 27us/step - loss: 0.0698 - acc: 0.9795 - val_loss: 0.0462 - val_acc: 0.9863\n",
            "Epoch 3/10\n",
            "60000/60000 [==============================] - 2s 27us/step - loss: 0.0501 - acc: 0.9855 - val_loss: 0.0368 - val_acc: 0.9886\n",
            "Epoch 4/10\n",
            "60000/60000 [==============================] - 2s 27us/step - loss: 0.0384 - acc: 0.9880 - val_loss: 0.0346 - val_acc: 0.9890\n",
            "Epoch 5/10\n",
            "60000/60000 [==============================] - 2s 27us/step - loss: 0.0319 - acc: 0.9901 - val_loss: 0.0444 - val_acc: 0.9859\n",
            "Epoch 6/10\n",
            "60000/60000 [==============================] - 2s 27us/step - loss: 0.0254 - acc: 0.9921 - val_loss: 0.0354 - val_acc: 0.9875\n",
            "Epoch 7/10\n",
            "60000/60000 [==============================] - 2s 27us/step - loss: 0.0212 - acc: 0.9933 - val_loss: 0.0347 - val_acc: 0.9881\n",
            "Epoch 8/10\n",
            "60000/60000 [==============================] - 2s 27us/step - loss: 0.0185 - acc: 0.9941 - val_loss: 0.0325 - val_acc: 0.9889\n",
            "Epoch 9/10\n",
            "60000/60000 [==============================] - 2s 27us/step - loss: 0.0164 - acc: 0.9947 - val_loss: 0.0376 - val_acc: 0.9886\n",
            "Epoch 10/10\n",
            "60000/60000 [==============================] - 2s 27us/step - loss: 0.0137 - acc: 0.9959 - val_loss: 0.0292 - val_acc: 0.9898\n",
            "CNN Error: %\n"
          ],
          "name": "stdout"
        }
      ]
    },
    {
      "cell_type": "code",
      "metadata": {
        "id": "XtwM1ZqcvY1j",
        "colab_type": "code",
        "colab": {}
      },
      "source": [
        ""
      ],
      "execution_count": 0,
      "outputs": []
    }
  ]
}